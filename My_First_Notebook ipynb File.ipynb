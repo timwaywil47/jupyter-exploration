{
 "cells": [
  {
   "cell_type": "markdown",
   "id": "ce6363fe-c951-40e2-b3a9-b58c5288eb17",
   "metadata": {},
   "source": [
    "\"My first markdown cell in Jupyter\""
   ]
  },
  {
   "cell_type": "code",
   "execution_count": 2,
   "id": "0e57cf81-c38a-42e7-821e-40c6a97d411d",
   "metadata": {},
   "outputs": [
    {
     "name": "stdout",
     "output_type": "stream",
     "text": [
      "Hello, World!\n"
     ]
    }
   ],
   "source": [
    "print(\"Hello, World!\")"
   ]
  },
  {
   "cell_type": "code",
   "execution_count": null,
   "id": "c5e92635-ca99-4fa8-87c8-66ee71c2df38",
   "metadata": {},
   "outputs": [],
   "source": []
  }
 ],
 "metadata": {
  "kernelspec": {
   "display_name": "Python 3 (ipykernel)",
   "language": "python",
   "name": "python3"
  },
  "language_info": {
   "codemirror_mode": {
    "name": "ipython",
    "version": 3
   },
   "file_extension": ".py",
   "mimetype": "text/x-python",
   "name": "python",
   "nbconvert_exporter": "python",
   "pygments_lexer": "ipython3",
   "version": "3.11.7"
  }
 },
 "nbformat": 4,
 "nbformat_minor": 5
}
